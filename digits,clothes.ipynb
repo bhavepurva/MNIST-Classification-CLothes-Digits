{
  "nbformat": 4,
  "nbformat_minor": 0,
  "metadata": {
    "colab": {
      "name": "digits,clothes.ipynb",
      "provenance": [],
      "collapsed_sections": [],
      "authorship_tag": "ABX9TyP6MY2wsmxnR/NScW+cr07t",
      "include_colab_link": true
    },
    "kernelspec": {
      "name": "python3",
      "display_name": "Python 3"
    }
  },
  "cells": [
    {
      "cell_type": "markdown",
      "metadata": {
        "id": "view-in-github",
        "colab_type": "text"
      },
      "source": [
        "<a href=\"https://colab.research.google.com/github/bhavepurva/MNIST-Classification-CLothes-Digits/blob/main/digits%2Cclothes.ipynb\" target=\"_parent\"><img src=\"https://colab.research.google.com/assets/colab-badge.svg\" alt=\"Open In Colab\"/></a>"
      ]
    },
    {
      "cell_type": "code",
      "metadata": {
        "colab": {
          "base_uri": "https://localhost:8080/",
          "height": 605
        },
        "id": "TT8FQ5XKGqA5",
        "outputId": "0873879c-ebaa-4ef6-c0ef-418363b3e685"
      },
      "source": [
        "#clothes classification\n",
        "\n",
        "#imports\n",
        "import tensorflow as tf \n",
        "from tensorflow import keras\n",
        "import numpy as np \n",
        "import matplotlib.pyplot as plt\n",
        "\n",
        "#get data\n",
        "data = keras.datasets.fashion_mnist #inbuilt keras dataset\n",
        "(train_images,train_labels),(test_images,test_labels)=data.load_data()\n",
        "\n",
        "#define classnames\n",
        "class_names = ['T-shirt/top', 'Trouser', 'Pullover', 'Dress', 'Coat',\n",
        "               'Sandal', 'Shirt', 'Sneaker', 'Bag', 'Ankle boot']\n",
        "\n",
        "#scale the data to get values around 0 and 1s\n",
        "train_images = train_images/255.0\n",
        "test_images = test_images/255.0\n",
        "\n",
        "#define/create network\n",
        "model = keras.Sequential([\n",
        "\tkeras.layers.Flatten(input_shape=(28,28)),\n",
        "\tkeras.layers.Dense(128, activation=\"relu\"),\n",
        "\tkeras.layers.Dense(10, activation=\"softmax\")\n",
        "\t])\n",
        "\n",
        "#compile network\n",
        "model.compile(optimizer=\"adam\", loss=\"sparse_categorical_crossentropy\", metrics=[\"accuracy\"])\n",
        "\n",
        "#train network\n",
        "model.fit(train_images, train_labels, epochs=1)\n",
        "\n",
        "#get accuracy\n",
        "test_loss, test_acc = model.evaluate(test_images, test_labels)\n",
        "print('\\nTest accuracy:', test_acc)\n",
        "\n",
        "#predict on test set\n",
        "predictions = model.predict(test_images)\n",
        "\n",
        "#plot the image\n",
        "plt.figure(figsize=(5,5))\n",
        "for i in range(1):\n",
        "    plt.grid(False)\n",
        "    plt.imshow(test_images[i], cmap=plt.cm.binary)\n",
        "    plt.xlabel(class_names[test_labels[i]])\n",
        "    plt.title(class_names[np.argmax(predictions[i])])\n",
        "    plt.show()\n",
        "\n"
      ],
      "execution_count": 1,
      "outputs": [
        {
          "output_type": "stream",
          "name": "stdout",
          "text": [
            "Downloading data from https://storage.googleapis.com/tensorflow/tf-keras-datasets/train-labels-idx1-ubyte.gz\n",
            "32768/29515 [=================================] - 0s 0us/step\n",
            "40960/29515 [=========================================] - 0s 0us/step\n",
            "Downloading data from https://storage.googleapis.com/tensorflow/tf-keras-datasets/train-images-idx3-ubyte.gz\n",
            "26427392/26421880 [==============================] - 0s 0us/step\n",
            "26435584/26421880 [==============================] - 0s 0us/step\n",
            "Downloading data from https://storage.googleapis.com/tensorflow/tf-keras-datasets/t10k-labels-idx1-ubyte.gz\n",
            "16384/5148 [===============================================================================================] - 0s 0us/step\n",
            "Downloading data from https://storage.googleapis.com/tensorflow/tf-keras-datasets/t10k-images-idx3-ubyte.gz\n",
            "4423680/4422102 [==============================] - 0s 0us/step\n",
            "4431872/4422102 [==============================] - 0s 0us/step\n",
            "1875/1875 [==============================] - 4s 2ms/step - loss: 0.4982 - accuracy: 0.8248\n",
            "313/313 [==============================] - 1s 1ms/step - loss: 0.4734 - accuracy: 0.8342\n",
            "\n",
            "Test accuracy: 0.8342000246047974\n"
          ]
        },
        {
          "output_type": "display_data",
          "data": {
            "image/png": "[encoded data removed]",
            "text/plain": [
              "<Figure size 360x360 with 1 Axes>"
            ]
          },
          "metadata": {
            "needs_background": "light"
          }
        }
      ]
    },
    {
      "cell_type": "code",
      "metadata": {
        "colab": {
          "base_uri": "https://localhost:8080/",
          "height": 1000
        },
        "id": "SOoMd0R80vdk",
        "outputId": "d60bd7b7-39d3-4216-8e02-1f1d4e14d657"
      },
      "source": [
        "#digit cassification\n",
        "\n",
        "#imports\n",
        "import tensorflow as tf\n",
        "from tensorflow import keras\n",
        "from keras import datasets\n",
        "import numpy as np\n",
        "import pandas as pd\n",
        "import matplotlib.pyplot as plt\n",
        "\n",
        "\n",
        "#get data\n",
        "(x_train, y_train), (x_test, y_test)=tf.keras.datasets.mnist.load_data(path=\"mnist.npz\")\n",
        "\n",
        "#split data, done in above step\n",
        "\n",
        "#define network\n",
        "model=keras.Sequential([keras.layers.Flatten(input_shape=(28,28)),keras.layers.Dense(128,activation=\"relu\"),keras.layers.Dense(10,activation=\"softmax\")])\n",
        "\n",
        "#compile the model\n",
        "model.compile(optimizer=\"adam\",loss=\"sparse_categorical_crossentropy\",metrics=[\"accuracy\"])\n",
        "\n",
        "#train the network\n",
        "model.fit(x_train,y_train,epochs=1)\n",
        "\n",
        "#predict\n",
        "predictions=model.predict(x_test)\n",
        "\n",
        "#get accuracy\n",
        "loss,accuracy=model.evaluate(x_test,y_test)\n",
        "print(accuracy)\n",
        "\n",
        "# plot digits\n",
        "plt.figure(figsize=(5,5))\n",
        "for i in range(5):\n",
        "  plt.grid(False)\n",
        "  plt.imshow(x_test[i], cmap=plt.cm.binary) #plots tthe digits image\n",
        "  plt.xlabel(y_test[i]) #labels plot with the actual testing y data\n",
        "  plt.title(np.argmax(predictions[i])) #title of plot is the prediction\n",
        "  plt.show()\n",
        "\n",
        "correct,total=0,0\n",
        "for x in range(len(predictions)):\n",
        "  if np.argmax(predictions[x])==y_test[x]:\n",
        "    correct+=1\n",
        "  total+=1\n",
        "\n",
        "print(f\"total: {total} correct: {correct} accuracy: {accuracy}\")"
      ],
      "execution_count": 2,
      "outputs": [
        {
          "output_type": "stream",
          "name": "stdout",
          "text": [
            "Downloading data from https://storage.googleapis.com/tensorflow/tf-keras-datasets/mnist.npz\n",
            "11493376/11490434 [==============================] - 0s 0us/step\n",
            "11501568/11490434 [==============================] - 0s 0us/step\n",
            "1875/1875 [==============================] - 4s 2ms/step - loss: 2.5282 - accuracy: 0.8550\n",
            "313/313 [==============================] - 0s 1ms/step - loss: 0.4878 - accuracy: 0.8931\n",
            "0.8931000232696533\n"
          ]
        },
        {
          "output_type": "display_data",
          "data": {
            "image/png": "[encoded data removed]",
            "text/plain": [
              "<Figure size 360x360 with 1 Axes>"
            ]
          },
          "metadata": {
            "needs_background": "light"
          }
        },
        {
          "output_type": "display_data",
          "data": {
            "image/png": "[encoded data removed]",
            "text/plain": [
              "<Figure size 432x288 with 1 Axes>"
            ]
          },
          "metadata": {
            "needs_background": "light"
          }
        },
        {
          "output_type": "display_data",
          "data": {
            "image/png": "[encoded data removed]",
            "text/plain": [
              "<Figure size 432x288 with 1 Axes>"
            ]
          },
          "metadata": {
            "needs_background": "light"
          }
        },
        {
          "output_type": "display_data",
          "data": {
            "image/png": "[encoded data removed]",
            "text/plain": [
              "<Figure size 432x288 with 1 Axes>"
            ]
          },
          "metadata": {
            "needs_background": "light"
          }
        },
        {
          "output_type": "display_data",
          "data": {
            "image/png": "[encoded data removed]",
            "text/plain": [
              "<Figure size 432x288 with 1 Axes>"
            ]
          },
          "metadata": {
            "needs_background": "light"
          }
        },
        {
          "output_type": "stream",
          "name": "stdout",
          "text": [
            "total: 10000 correct: 8931 accuracy: 0.8931000232696533\n"
          ]
        }
      ]
    }
  ]
}